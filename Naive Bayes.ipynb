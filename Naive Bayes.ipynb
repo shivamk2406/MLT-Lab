{
 "cells": [
  {
   "cell_type": "code",
   "execution_count": 100,
   "id": "3e7b0be9",
   "metadata": {},
   "outputs": [],
   "source": [
    "import pandas as pd\n",
    "import numpy as np\n",
    "%matplotlib inline"
   ]
  },
  {
   "cell_type": "code",
   "execution_count": 101,
   "id": "fbaab6e5",
   "metadata": {},
   "outputs": [],
   "source": [
    "dataset=pd.read_csv(\"./playTennis.csv\")"
   ]
  },
  {
   "cell_type": "code",
   "execution_count": 103,
   "id": "56309605",
   "metadata": {},
   "outputs": [],
   "source": [
    "from sklearn.model_selection import train_test_split\n",
    "from sklearn.metrics import *\n",
    "from sklearn.naive_bayes import GaussianNB,BernoulliNB,MultinomialNB"
   ]
  },
  {
   "cell_type": "code",
   "execution_count": 106,
   "id": "fae3c489",
   "metadata": {},
   "outputs": [],
   "source": [
    "out={'overcast':1,'rainy':2,'sunny':3}\n",
    "dataset.outlook=[out[item] for item in dataset.outlook.astype(str)]\n"
   ]
  },
  {
   "cell_type": "code",
   "execution_count": 107,
   "id": "921824c3",
   "metadata": {},
   "outputs": [],
   "source": [
    "te={'cool':1,'hot':2,'mild':3}\n",
    "dataset.temp=[te[item] for item in dataset.temp.astype(str)]"
   ]
  },
  {
   "cell_type": "code",
   "execution_count": 108,
   "id": "6717f914",
   "metadata": {},
   "outputs": [],
   "source": [
    "humi={'high':1,'normal':2}\n",
    "dataset.humidity=[humi[item] for item in dataset.humidity.astype(str)]"
   ]
  },
  {
   "cell_type": "code",
   "execution_count": 109,
   "id": "53563776",
   "metadata": {},
   "outputs": [],
   "source": [
    "win={'True':1,'False':2}\n",
    "dataset.windy=[win[item] for item in dataset.windy.astype(str)]"
   ]
  },
  {
   "cell_type": "code",
   "execution_count": 111,
   "id": "4d760114",
   "metadata": {},
   "outputs": [],
   "source": [
    "X=dataset.iloc[:,:-1]\n",
    "y=dataset.iloc[:,-1]"
   ]
  },
  {
   "cell_type": "code",
   "execution_count": 112,
   "id": "e9b4aad2",
   "metadata": {},
   "outputs": [],
   "source": [
    "X_train, X_test, y_train, y_test = train_test_split(X, y, test_size=0.33, random_state=42)"
   ]
  },
  {
   "cell_type": "code",
   "execution_count": 113,
   "id": "87dd6e03",
   "metadata": {},
   "outputs": [
    {
     "data": {
      "text/plain": [
       "MultinomialNB()"
      ]
     },
     "execution_count": 113,
     "metadata": {},
     "output_type": "execute_result"
    }
   ],
   "source": [
    "model=MultinomialNB()\n",
    "model.fit(X_train,y_train)"
   ]
  },
  {
   "cell_type": "code",
   "execution_count": 114,
   "id": "9aa2ddad",
   "metadata": {},
   "outputs": [],
   "source": [
    "predict=model.predict(X_test)"
   ]
  },
  {
   "cell_type": "code",
   "execution_count": 120,
   "id": "c1534436",
   "metadata": {},
   "outputs": [
    {
     "data": {
      "text/html": [
       "<div>\n",
       "<style scoped>\n",
       "    .dataframe tbody tr th:only-of-type {\n",
       "        vertical-align: middle;\n",
       "    }\n",
       "\n",
       "    .dataframe tbody tr th {\n",
       "        vertical-align: top;\n",
       "    }\n",
       "\n",
       "    .dataframe thead th {\n",
       "        text-align: right;\n",
       "    }\n",
       "</style>\n",
       "<table border=\"1\" class=\"dataframe\">\n",
       "  <thead>\n",
       "    <tr style=\"text-align: right;\">\n",
       "      <th>predicted</th>\n",
       "      <th>yes</th>\n",
       "      <th>All</th>\n",
       "    </tr>\n",
       "    <tr>\n",
       "      <th>Actual</th>\n",
       "      <th></th>\n",
       "      <th></th>\n",
       "    </tr>\n",
       "  </thead>\n",
       "  <tbody>\n",
       "    <tr>\n",
       "      <th>no</th>\n",
       "      <td>2</td>\n",
       "      <td>2</td>\n",
       "    </tr>\n",
       "    <tr>\n",
       "      <th>yes</th>\n",
       "      <td>3</td>\n",
       "      <td>3</td>\n",
       "    </tr>\n",
       "    <tr>\n",
       "      <th>All</th>\n",
       "      <td>5</td>\n",
       "      <td>5</td>\n",
       "    </tr>\n",
       "  </tbody>\n",
       "</table>\n",
       "</div>"
      ],
      "text/plain": [
       "predicted  yes  All\n",
       "Actual             \n",
       "no           2    2\n",
       "yes          3    3\n",
       "All          5    5"
      ]
     },
     "execution_count": 120,
     "metadata": {},
     "output_type": "execute_result"
    }
   ],
   "source": [
    "pd.crosstab(y_test,predict,rownames=['Actual'],colnames=['predicted'],margins=True)"
   ]
  },
  {
   "cell_type": "code",
   "execution_count": 123,
   "id": "c7f0595a",
   "metadata": {},
   "outputs": [
    {
     "data": {
      "text/plain": [
       "0.6"
      ]
     },
     "execution_count": 123,
     "metadata": {},
     "output_type": "execute_result"
    }
   ],
   "source": [
    "accuracy_score(y_test,predict)"
   ]
  }
 ],
 "metadata": {
  "kernelspec": {
   "display_name": "Python 3",
   "language": "python",
   "name": "python3"
  },
  "language_info": {
   "codemirror_mode": {
    "name": "ipython",
    "version": 3
   },
   "file_extension": ".py",
   "mimetype": "text/x-python",
   "name": "python",
   "nbconvert_exporter": "python",
   "pygments_lexer": "ipython3",
   "version": "3.8.8"
  }
 },
 "nbformat": 4,
 "nbformat_minor": 5
}
